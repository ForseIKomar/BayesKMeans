{
  "nbformat": 4,
  "nbformat_minor": 0,
  "metadata": {
    "colab": {
      "name": "BayesKMeans_1.0.0",
      "provenance": [],
      "collapsed_sections": []
    },
    "kernelspec": {
      "name": "python3",
      "display_name": "Python 3"
    },
    "language_info": {
      "name": "python"
    }
  },
  "cells": [
    {
      "cell_type": "markdown",
      "source": [
        "#Импорты библиотек"
      ],
      "metadata": {
        "id": "--blsPodKeUY"
      }
    },
    {
      "cell_type": "code",
      "execution_count": null,
      "metadata": {
        "id": "mJuA2ccPJGYd"
      },
      "outputs": [],
      "source": [
        "try:\n",
        "  import numpy as np\n",
        "  import random\n",
        "except:\n",
        "  !pip install numpy\n",
        "  import numpy as np\n",
        "  import random"
      ]
    },
    {
      "cell_type": "code",
      "source": [
        "try:\n",
        "  from sklearn.cluster import KMeans\n",
        "  from sklearn.metrics import silhouette_score\n",
        "  from sklearn.datasets import make_blobs\n",
        "  from sklearn.metrics import davies_bouldin_score\n",
        "except:\n",
        "  !pip install sklearn\n",
        "  from sklearn.cluster import KMeans\n",
        "  from sklearn.metrics import silhouette_score\n",
        "  from sklearn.datasets import make_blobs\n",
        "  from sklearn.metrics import davies_bouldin_score"
      ],
      "metadata": {
        "id": "Yu427bj6KgK1"
      },
      "execution_count": null,
      "outputs": []
    },
    {
      "cell_type": "code",
      "source": [
        "try:\n",
        "  from skopt import gp_minimize\n",
        "except:\n",
        "  !pip install scikit-optimize\n",
        "  from skopt import gp_minimize"
      ],
      "metadata": {
        "id": "vynZ3L24KgNg"
      },
      "execution_count": null,
      "outputs": []
    },
    {
      "cell_type": "code",
      "source": [
        "try:\n",
        "  import matplotlib.pyplot as plt\n",
        "except:\n",
        "  !pip install matplotlib\n",
        "  import matplotlib.pyplot as plt"
      ],
      "metadata": {
        "id": "zrShxRDpKgPn"
      },
      "execution_count": null,
      "outputs": []
    },
    {
      "cell_type": "code",
      "source": [
        "import time\n",
        "import warnings\n",
        "warnings.filterwarnings('ignore')"
      ],
      "metadata": {
        "id": "vNjeAIn9KgSO"
      },
      "execution_count": null,
      "outputs": []
    },
    {
      "cell_type": "markdown",
      "source": [
        "#Класс Bayesian_optimization_stable"
      ],
      "metadata": {
        "id": "de6kXkCTKqBJ"
      }
    },
    {
      "cell_type": "code",
      "source": [
        "class Silhouette_stable(object):\n",
        " \n",
        "    def __init__(self, data, n_init_points = 3, initial_generator = 'random', \n",
        "                 acq_function = 'gp_hedge', noise = 'gaussian', \n",
        "                 left_border = 2, right_border = 100, n_calls = 12, \n",
        "                 dispersion = 3, random_state = 2022):\n",
        "        self.data = data\n",
        "        self.n_init_points = n_init_points\n",
        "        self.initial_generator = initial_generator\n",
        "        self.acq_function = acq_function\n",
        "        self.noise = noise\n",
        "        self.left_border = left_border\n",
        "        self.right_border = right_border\n",
        "        self.n_calls = n_calls\n",
        "        self.dispersion = dispersion\n",
        "        self.random_state = random_state\n",
        "\n",
        "    def score_function(self, n):\n",
        "      clusterer = KMeans(n_clusters = n[0], random_state = self.random_state)\n",
        "      preds = clusterer.fit_predict(np.array(self.data))\n",
        "      return 1 - silhouette_score(self.data, preds)\n",
        "\n",
        "\n",
        "\n",
        "class DaviesBouldin_stable(object):\n",
        " \n",
        "    def __init__(self, data, n_init_points = 6, initial_generator = 'sobol', \n",
        "                 acq_function = 'LCB', kappa = 3, noise = 'gaussian', \n",
        "                 left_border = 2, right_border = 100, n_calls = 14, \n",
        "                 dispersion = 2, random_state = 2022):\n",
        "        self.data = data\n",
        "        self.n_init_points = n_init_points\n",
        "        self.initial_generator = initial_generator\n",
        "        self.acq_function = acq_function\n",
        "        self.kappa = kappa\n",
        "        self.noise = noise\n",
        "        self.left_border = left_border\n",
        "        self.right_border = right_border\n",
        "        self.n_calls = n_calls\n",
        "        self.dispersion = dispersion\n",
        "        self.random_state = random_state\n",
        "\n",
        "    def score_function(self, n):\n",
        "      clusterer = KMeans(n_clusters = n[0], random_state = self.random_state)\n",
        "      preds = clusterer.fit_predict(np.array(self.data))\n",
        "      return davies_bouldin_score(self.data, preds)\n",
        "\n",
        "\n",
        "\n",
        "class BayesKMeans_stable(object):\n",
        " \n",
        "    def __init__(self, data):\n",
        "        self.data = data\n",
        "        self.x_iters = None\n",
        "        self.func_vals = None\n",
        "        self.foundK = None\n",
        "        if len(data) <= 4000:\n",
        "          self.methodName = 'silhouette'\n",
        "          self.method = Silhouette_stable(data)\n",
        "        else:\n",
        "          self.methodName = 'daviesBouldin'\n",
        "          self.method = DaviesBouldin_stable(data)\n",
        "\n",
        "    def findK(self):\n",
        "      self.__bayesian_optimization()\n",
        "      \n",
        "    def getK(self):\n",
        "      return self.foundK\n",
        "\n",
        "    def chooseOptimizationMethod(self, optimized_method):\n",
        "      if optimized_method == 'silhouette':\n",
        "          self.method = Silhouette_stable(data)\n",
        "      elif optimized_method == 'daviesBouldin':\n",
        "          self.method = DaviesBouldin_stable(data)\n",
        "\n",
        "    def setOptimizationMethod(self, method):\n",
        "      self.method = method\n",
        "\n",
        "    def __bayesian_optimization(self):\n",
        "      result = gp_minimize(\n",
        "                  self.method.score_function,\n",
        "                  [[self.method.left_border, self.method.right_border]],\n",
        "                  acq_func = self.method.acq_function,\n",
        "                  n_calls = self.method.n_calls,   \n",
        "                  n_initial_points = self.method.n_init_points,\n",
        "                  initial_point_generator = self.method.initial_generator,\n",
        "                  n_points = self.method.right_border - self.method.left_border + 1,   # Так как поиск происходит только по целым значениям, имеет смысл ограничить число точек\n",
        "                  noise = self.method.noise\n",
        "                           )\n",
        "      x_it = []\n",
        "      for x in result.x_iters:\n",
        "        x_it.append(x[0])\n",
        "      self.x_iters = x_it\n",
        "      self.func_vals = result.func_vals\n",
        "      self.foundK = result.x[0]\n",
        "      self.min_function_value = result.fun\n",
        "\n",
        "      for d in range(max([self.foundK - self.method.dispersion, 2]), self.foundK + self.method.dispersion + 1):\n",
        "        if d not in self.x_iters:\n",
        "          self.x_iters.append(d)\n",
        "          self.func_vals = np.append(self.func_vals, self.method.score_function([d]))\n",
        "          if self.func_vals[-1] < self.min_function_value:\n",
        "            self.min_function_value = self.func_vals[-1]\n",
        "            self.foundK = d\n",
        "\n",
        "    def showData(self):\n",
        "      plt.scatter(self.data[:, 0], self.data[:, 1])\n",
        "      plt.show()\n",
        "\n",
        "    def showColoredData(self):\n",
        "      clusterer = KMeans(n_clusters = self.foundK, random_state = self.method.random_state)\n",
        "      preds = clusterer.fit_predict(np.array(self.data))\n",
        "      plt.scatter(self.data[:, 0], self.data[:, 1], c=preds)\n",
        "      plt.show()  \n",
        "\n",
        "    def showBayesianPlot(self, line = False):\n",
        "      d = {}\n",
        "      for i in range(len(self.x_iters)):\n",
        "        d[self.x_iters[i]] = self.func_vals[i]\n",
        "      x_asc = sorted(self.x_iters)\n",
        "      y_asc = []\n",
        "      for x in x_asc:\n",
        "        y_asc.append(d[x])\n",
        "      if line:\n",
        "        plt.plot(x_asc, y_asc, label=self.methodName)\n",
        "\n",
        "      plt.scatter(x_asc, y_asc, label=self.methodName + ' points', marker='x', s=15, c='green')\n",
        "      plt.scatter(self.foundK, d[self.foundK], c='red', marker='+', s=35, label='Target = ' + str(self.foundK))\n",
        "      plt.xlabel('n_clusters')  \n",
        "      plt.ylabel('Score')\n",
        "      plt.legend()\n",
        "      plt.show()"
      ],
      "metadata": {
        "id": "eaYGcQBBKkGN"
      },
      "execution_count": null,
      "outputs": []
    },
    {
      "cell_type": "markdown",
      "source": [
        "# Класс Bayesian Optimization Flexible"
      ],
      "metadata": {
        "id": "iNX9kdL_NoNY"
      }
    },
    {
      "cell_type": "code",
      "source": [
        "class Silhouette(object):\n",
        "    def __init__(self, data, random_state = 2022):\n",
        "        self.data = data\n",
        "        self.random_state = random_state\n",
        "        self.function = self.score_function\n",
        "\n",
        "    def score_function(self, n, predicts = None):\n",
        "      if predicts is not None:\n",
        "        preds = predicts\n",
        "      else:\n",
        "        clusterer = KMeans(n_clusters = n[0], random_state = self.random_state)\n",
        "        preds = clusterer.fit_predict(np.array(self.data))\n",
        "      return 1 - silhouette_score(self.data, preds)\n",
        "\n",
        "\n",
        "\n",
        "class DaviesBouldin(object):\n",
        "    def __init__(self, data, random_state = 2022):\n",
        "        self.data = data\n",
        "        self.random_state = random_state\n",
        "        self.function = self.score_function\n",
        "\n",
        "    def score_function(self, n, predicts = None):\n",
        "      if predicts is not None:\n",
        "        preds = predicts\n",
        "      else:\n",
        "        clusterer = KMeans(n_clusters = n[0], random_state = self.random_state)\n",
        "        preds = clusterer.fit_predict(np.array(self.data))\n",
        "      return davies_bouldin_score(self.data, preds)\n",
        "\n",
        "\n",
        "\n",
        "class BayesKMeans(object):\n",
        "    def __init__(self, data):\n",
        "        self.data = data\n",
        "\n",
        "        # Определение переменных на будущее\n",
        "        self.x_iters = None\n",
        "        self.func_vals = None\n",
        "        self.foundK = None\n",
        "        self.border = None\n",
        "        \n",
        "        # Определение параметров байесовской оптимизации 2-50, 99%\n",
        "        self.left_border = 2\n",
        "        self.right_border = 50\n",
        "        self.initial_point_generator = 'hammersly'\n",
        "        self.n_init_points = 4\n",
        "        self.acq_optimizer = 'lbfgs'\n",
        "        self.acq_func = 'gp_hedge'\n",
        "        self.xi = 0.01\n",
        "        self.kappa = 5\n",
        "        self.n_restarts_optimizer = 1\n",
        "        self.noise = 'gaussian'\n",
        "        self.dispersion = 7\n",
        "        self.n_calls = 6\n",
        "        self.x_0 = []\n",
        "        self.y_0 = []\n",
        "        self.elbow = []\n",
        "\n",
        "        # Определение метода\n",
        "        if len(data) <= 4000:\n",
        "          self.methodName = 'silhouette'\n",
        "          self.method = Silhouette(data)\n",
        "        else:\n",
        "          self.methodName = 'daviesBouldin'\n",
        "          self.method = DaviesBouldin(data)\n",
        "\n",
        "    def __get_elbow(self, n_clusters):\n",
        "        if n_clusters not in self.x_0:\n",
        "          model = KMeans(n_clusters=n_clusters)\n",
        "          predicts = model.fit_predict(self.data)\n",
        "          self.x_0.append(n_clusters)\n",
        "          self.y_0.append(self.method.score_function([n_clusters], predicts))\n",
        "          self.elbow.append(model.inertia_)\n",
        "          return model.inertia_\n",
        "        else:\n",
        "          i = 0\n",
        "          while self.x_0[i] != n_clusters:\n",
        "            i += 1\n",
        "          return self.elbow[i]\n",
        "\n",
        "    def determineRightBorder(self):\n",
        "      step = 50\n",
        "      diff = 20\n",
        "      level = 0.75\n",
        "      j = 1\n",
        "      k_0 = self.__get_elbow((j) * step)\n",
        "      k_1 = self.__get_elbow((j) * step + diff)\n",
        "      while (k_1 / k_0 < level):\n",
        "        j += 1\n",
        "        k_0 = self.__get_elbow((j) * step)\n",
        "        k_1 = self.__get_elbow((j) * step + diff)\n",
        "      self.border = j\n",
        "      self.right_border = (j) * 50\n",
        "      print('Right border is {0}'.format(self.right_border))\n",
        "\n",
        "    def setBayesianParametrs(self, persent = '99'):\n",
        "      if persent == '95':\n",
        "        self.initial_point_generator = 'hammersly'\n",
        "        self.n_init_points = max(4 - self.border, 2)\n",
        "        self.acq_optimizer = 'lbfgs'\n",
        "        self.acq_func = 'gp_hedge'\n",
        "        self.n_restart_optimizer = 1\n",
        "        self.noise = 'gaussian'\n",
        "        self.dispersion = 4 + (self.border // 2) * 2\n",
        "        self.n_calls = 4 + self.border * 2 - 3 * int((self.right_border - 50) / 100)\n",
        "\n",
        "      elif persent == '99':\n",
        "        self.initial_point_generator = 'hammersly'\n",
        "        self.n_init_points = max(4 - self.border, 2)\n",
        "        self.acq_optimizer = 'lbfgs'\n",
        "        self.acq_func = 'gp_hedge'\n",
        "        self.n_restart_optimizer = 1\n",
        "        self.noise = 'gaussian'\n",
        "        self.dispersion = 7 + (self.border // 2) * 2\n",
        "        self.n_calls = 4 + self.border * 2 - 3 * int((self.right_border - 50) / 100)\n",
        "      else:\n",
        "        print('Persent value can be \"95\" or \"99\"')\n",
        "\n",
        "    def findK(self):\n",
        "      self.__bayesian_optimization()\n",
        "      \n",
        "    def getK(self):\n",
        "      return self.foundK\n",
        "\n",
        "    def chooseOptimizationMethod(self, optimized_method):\n",
        "      self.x_0 = []\n",
        "      self.y_0 = []\n",
        "      self.elbow = []\n",
        "      if optimized_method == 'silhouette':\n",
        "          self.method = Silhouette(data)\n",
        "      elif optimized_method == 'daviesBouldin':\n",
        "          self.method = DaviesBouldin(data)\n",
        "\n",
        "    def setOptimizationMethod(self, method):\n",
        "      self.x_0 = []\n",
        "      self.y_0 = []\n",
        "      self.elbow = []\n",
        "      self.method = method\n",
        "\n",
        "    def __bayesian_optimization(self):\n",
        "      x0 = self.x_0[:-1]\n",
        "      y0 = self.y_0[:-1]\n",
        "      for i in range(len(x0)):\n",
        "        x0[i] = [x0[i]]\n",
        "      result = gp_minimize(\n",
        "                  self.method.score_function,\n",
        "                  [[self.left_border, self.right_border]],\n",
        "                  acq_func = self.acq_func,\n",
        "                  n_calls = self.n_calls,   \n",
        "                  n_initial_points = self.n_init_points,\n",
        "                  initial_point_generator = self.initial_point_generator,\n",
        "                  acq_optimizer = self.acq_optimizer,\n",
        "                  n_restarts_optimizer = self.n_restarts_optimizer,\n",
        "                  kappa = self.kappa,\n",
        "                  xi = self.xi,\n",
        "                  x0 = x0,\n",
        "                  y0 = y0,\n",
        "                  noise = self.noise\n",
        "                           )\n",
        "      x_it = []\n",
        "      for x in result.x_iters:\n",
        "        x_it.append(x[0])\n",
        "      self.x_iters = x_it\n",
        "      self.func_vals = result.func_vals\n",
        "      self.foundK = result.x[0]\n",
        "      self.min_function_value = result.fun\n",
        "\n",
        "      for d in range(max([self.foundK - self.dispersion, 2]), self.foundK + self.dispersion + 1):\n",
        "        if d not in self.x_iters:\n",
        "          self.x_iters.append(d)\n",
        "          self.func_vals = np.append(self.func_vals, self.method.score_function([d]))\n",
        "          if self.func_vals[-1] < self.min_function_value:\n",
        "            self.min_function_value = self.func_vals[-1]\n",
        "            self.foundK = d\n",
        "\n",
        "    def showData(self):\n",
        "      plt.scatter(self.data[:, 0], self.data[:, 1])\n",
        "      plt.show()\n",
        "\n",
        "    def showColoredData(self):\n",
        "      clusterer = KMeans(n_clusters = self.foundK, random_state = self.method.random_state)\n",
        "      preds = clusterer.fit_predict(np.array(self.data))\n",
        "      plt.scatter(self.data[:, 0], self.data[:, 1], c=preds)\n",
        "      plt.show()  \n",
        "\n",
        "    def showBayesianPlot(self, line = True):\n",
        "      d = {}\n",
        "      for i in range(len(self.x_iters)):\n",
        "        d[self.x_iters[i]] = self.func_vals[i]\n",
        "\n",
        "      x_asc = sorted(self.x_iters)\n",
        "      y_asc = []\n",
        "      for x in x_asc:\n",
        "        y_asc.append(d[x])\n",
        "\n",
        "      if line:\n",
        "        plt.plot(x_asc, y_asc, label=self.methodName)\n",
        "\n",
        "      plt.scatter(x_asc, y_asc, label=self.methodName + ' points', marker='x', s=15, c='green')\n",
        "      plt.scatter(self.foundK, d[self.foundK], c='red', marker='+', s=35, label='Target = ' + str(self.foundK))\n",
        "      plt.xlabel('n_clusters')  \n",
        "      plt.ylabel('Score')\n",
        "      plt.legend()\n",
        "      plt.show()"
      ],
      "metadata": {
        "id": "76mFD2zvNs0n"
      },
      "execution_count": null,
      "outputs": []
    },
    {
      "cell_type": "code",
      "source": [
        "class SequentalFind(object):\n",
        "    def __init__(self, data, level = 1.3):\n",
        "      self.data = data\n",
        "      self.level = level\n",
        "      if len(data) <= 4000:\n",
        "        self.methodName = 'silhouette'\n",
        "        self.method = Silhouette(data)\n",
        "      else:\n",
        "        self.methodName = 'daviesBouldin'\n",
        "        self.method = DaviesBouldin(data)\n",
        "    \n",
        "    def findNClusters(self):\n",
        "      st = time.time()\n",
        "      min_N = 2\n",
        "      min_func = self.method.score_function([2])\n",
        "      j = 3\n",
        "      new_func = self.method.score_function([3])\n",
        "      while min_func * self.level >= new_func:\n",
        "        if new_func < min_func:\n",
        "          min_func = new_func\n",
        "          min_N = j\n",
        "        j += 1\n",
        "        new_func = self.method.score_function([j])\n",
        "      \n",
        "      print('Minimum clusters = {0}'.format(min_N))\n",
        "      print('Minimum value = {0}'.format(min_func))\n",
        "      print('Time is {0} seconds'.format(round((time.time() - st) * 1000) / 1000))\n",
        "        "
      ],
      "metadata": {
        "id": "JDIKiH7DG39p"
      },
      "execution_count": null,
      "outputs": []
    },
    {
      "cell_type": "code",
      "source": [
        "class RandomSearch(object):\n",
        "    def __init__(self, data, n_calls = 10, right_bound = 100, dispersion = 2):\n",
        "      self.data = data\n",
        "      self.n_calls = n_calls\n",
        "      self.right_bound = right_bound\n",
        "      self.dispersion = dispersion\n",
        "      if len(data) <= 4000:\n",
        "        self.methodName = 'silhouette'\n",
        "        self.method = Silhouette(data)\n",
        "      else:\n",
        "        self.methodName = 'daviesBouldin'\n",
        "        self.method = DaviesBouldin(data)\n",
        "    \n",
        "    def findNClusters(self):\n",
        "      st = time.time()\n",
        "      dictin = {}\n",
        "      min_N = random.randint(2, self.right_bound)\n",
        "      min_func = self.method.score_function([min_N])\n",
        "      dictin[min_N] = min_func\n",
        "      for i in range(1, self.n_calls):\n",
        "        j = random.randint(2, self.right_bound)\n",
        "        if j not in dictin:\n",
        "          new_func = self.method.score_function([j])\n",
        "          dictin[j] = new_func\n",
        "        else:\n",
        "          new_func = dictin[j]\n",
        "        if new_func < min_func:\n",
        "          min_func = new_func\n",
        "          min_N = j\n",
        "\n",
        "      for i in range(max(min_N - self.dispersion, 2), min_N + self.dispersion + 1):\n",
        "        if i not in dictin:\n",
        "          new_func = self.method.score_function([i])\n",
        "          dictin[i] = new_func\n",
        "        else:\n",
        "          new_func = dictin[i]\n",
        "        if new_func < min_func:\n",
        "          min_func = new_func\n",
        "          min_N = i\n",
        "      \n",
        "      print('Minimum clusters = {0}'.format(min_N))\n",
        "      print('Minimum value = {0}'.format(min_func))\n",
        "      print('Time is {0} seconds'.format(round((time.time() - st) * 1000) / 1000))\n",
        "        "
      ],
      "metadata": {
        "id": "7muM500BKdgh"
      },
      "execution_count": null,
      "outputs": []
    },
    {
      "cell_type": "code",
      "source": [
        "class RandomChoose(object):\n",
        "    def __init__(self, data, right_bound = 100):\n",
        "      self.data = data\n",
        "      self.right_bound = right_bound\n",
        "      if len(data) <= 4000:\n",
        "        self.methodName = 'silhouette'\n",
        "        self.method = Silhouette(data)\n",
        "      else:\n",
        "        self.methodName = 'daviesBouldin'\n",
        "        self.method = DaviesBouldin(data)\n",
        "\n",
        "    def findNClusters(self):\n",
        "      st = time.time()\n",
        "      dictin = {}\n",
        "      min_N = random.randint(2, self.right_bound)\n",
        "      min_func = self.method.score_function([min_N])\n",
        "      \n",
        "      print('Minimum clusters = {0}'.format(min_N))\n",
        "      print('Minimum value = {0}'.format(min_func))\n",
        "      print('Time is {0} seconds'.format(round((time.time() - st) * 1000) / 1000))\n",
        "        "
      ],
      "metadata": {
        "id": "Ke5AGI8UPbzU"
      },
      "execution_count": null,
      "outputs": []
    },
    {
      "cell_type": "code",
      "source": [
        "a = SequentalFind(new_data)\n",
        "a.findNClusters()"
      ],
      "metadata": {
        "colab": {
          "base_uri": "https://localhost:8080/"
        },
        "id": "uNg4PJWgHxmF",
        "outputId": "ac57b52b-3051-4c72-d56c-41a0499120fa"
      },
      "execution_count": null,
      "outputs": [
        {
          "output_type": "stream",
          "name": "stdout",
          "text": [
            "Minimum clusters = 2\n",
            "Minimum value = 0.48846661170196326\n",
            "Time is 0.808 seconds\n"
          ]
        }
      ]
    },
    {
      "cell_type": "code",
      "source": [
        "a = RandomSearch(new_data, n_calls = 20, dispersion = 6, right_bound = 100)\n",
        "a.findNClusters()"
      ],
      "metadata": {
        "colab": {
          "base_uri": "https://localhost:8080/"
        },
        "id": "ZnZK2kmdL7fl",
        "outputId": "2bb8ef30-4fde-4b31-b486-04c676661cf9"
      },
      "execution_count": null,
      "outputs": [
        {
          "output_type": "stream",
          "name": "stdout",
          "text": [
            "Minimum clusters = 2\n",
            "Minimum value = 0.48846661170196326\n",
            "Time is 6.534 seconds\n"
          ]
        }
      ]
    },
    {
      "cell_type": "code",
      "source": [
        "a = RandomChoose(new_data, right_bound = 100)\n",
        "a.findNClusters()"
      ],
      "metadata": {
        "colab": {
          "base_uri": "https://localhost:8080/"
        },
        "id": "LF91xIaMPjkA",
        "outputId": "9dfd396c-557c-458c-eb95-3de0a4760f39"
      },
      "execution_count": null,
      "outputs": [
        {
          "output_type": "stream",
          "name": "stdout",
          "text": [
            "Minimum clusters = 7\n",
            "Minimum value = 0.6576099008693614\n",
            "Time is 0.133 seconds\n"
          ]
        }
      ]
    },
    {
      "cell_type": "code",
      "source": [
        "bayesKMeans = BayesKMeans(new_data)\n",
        "start = time.time()\n",
        "bayesKMeans.determineRightBorder()\n",
        "bayesKMeans.setBayesianParametrs(persent = '99')\n",
        "bayesKMeans.findK()\n",
        "print('Time is {0} seconds'.format(round((time.time() - start) * 1000) / 1000))\n",
        "print('Minimum clusters = {0}'.format(bayesKMeans.getK()))\n",
        "print('Minimum value = {0}'.format(bayesKMeans.min_function_value))"
      ],
      "metadata": {
        "colab": {
          "base_uri": "https://localhost:8080/"
        },
        "id": "aYnJNc7Aicnt",
        "outputId": "d4a73dc0-68c4-4d31-88ca-795f1104df5d"
      },
      "execution_count": null,
      "outputs": [
        {
          "output_type": "stream",
          "name": "stdout",
          "text": [
            "Right border is 100\n",
            "Time is 8.451 seconds\n",
            "Minimum clusters = 2\n",
            "Minimum value = 0.48846661170196326\n"
          ]
        }
      ]
    },
    {
      "cell_type": "code",
      "source": [
        "bayesKMeans = BayesKMeans_stable(new_data)\n",
        "start = time.time()\n",
        "bayesKMeans.findK()\n",
        "print('Time is {0} seconds'.format(round((time.time() - start) * 1000) / 1000))\n",
        "print('Minimum clusters = {0}'.format(bayesKMeans.getK()))\n",
        "print('Minimum value = {0}'.format(bayesKMeans.min_function_value))"
      ],
      "metadata": {
        "colab": {
          "base_uri": "https://localhost:8080/"
        },
        "id": "pFI8gJyiiyog",
        "outputId": "5655236c-06db-46eb-ce27-622ab7ea51c7"
      },
      "execution_count": null,
      "outputs": [
        {
          "output_type": "stream",
          "name": "stdout",
          "text": [
            "Time is 7.008 seconds\n",
            "Minimum clusters = 2\n",
            "Minimum value = 0.48846661170196326\n"
          ]
        }
      ]
    },
    {
      "cell_type": "code",
      "source": [
        ""
      ],
      "metadata": {
        "id": "of1eVBAhicqN"
      },
      "execution_count": null,
      "outputs": []
    },
    {
      "cell_type": "markdown",
      "source": [
        ""
      ],
      "metadata": {
        "id": "NoYnFZX6he6S"
      }
    },
    {
      "cell_type": "code",
      "source": [
        "data = make_blobs(n_samples=10000, n_features=2, centers=216, cluster_std=4, center_box=(-1000, 1000))\n",
        "data = data[0]"
      ],
      "metadata": {
        "id": "w-4vvLoCdEjd"
      },
      "execution_count": null,
      "outputs": []
    },
    {
      "cell_type": "code",
      "source": [
        "float('0.0')"
      ],
      "metadata": {
        "id": "C59PzVIxvSU1",
        "colab": {
          "base_uri": "https://localhost:8080/"
        },
        "outputId": "bddb4bb9-b243-4f80-97db-abfdb7a3486b"
      },
      "execution_count": null,
      "outputs": [
        {
          "output_type": "execute_result",
          "data": {
            "text/plain": [
              "0.0"
            ]
          },
          "metadata": {},
          "execution_count": 9
        }
      ]
    },
    {
      "cell_type": "code",
      "source": [
        "import csv\n",
        "\n",
        "adv = []\n",
        "#with open('AllBooks_baseline_DTM_Labelled.csv') as f:\n",
        "#with open('online_shoppers_intention.csv') as f:\n",
        "with open('Wholesale customers data.csv') as f:\n",
        "  reader = csv.reader(f)\n",
        "  i = 0\n",
        "  for row in reader:\n",
        "    row_arr = []\n",
        "    j = 0\n",
        "    if i > 0:\n",
        "      for elem in row:\n",
        "          if j >= 0:\n",
        "            try:\n",
        "              row_arr.append(float(elem))\n",
        "            except:\n",
        "              None\n",
        "          j += 1\n",
        "      adv.append(row_arr)\n",
        "    i += 1"
      ],
      "metadata": {
        "id": "aCxH5IuRvSXj"
      },
      "execution_count": null,
      "outputs": []
    },
    {
      "cell_type": "code",
      "source": [
        "len(adv)"
      ],
      "metadata": {
        "colab": {
          "base_uri": "https://localhost:8080/"
        },
        "id": "jDZlG8Ul_Fqx",
        "outputId": "c016354a-ccb6-4f3b-abac-14390f5ce1c7"
      },
      "execution_count": null,
      "outputs": [
        {
          "output_type": "execute_result",
          "data": {
            "text/plain": [
              "12330"
            ]
          },
          "metadata": {},
          "execution_count": 196
        }
      ]
    },
    {
      "cell_type": "code",
      "source": [
        "len(adv[2])"
      ],
      "metadata": {
        "colab": {
          "base_uri": "https://localhost:8080/"
        },
        "id": "h83XrajE_H23",
        "outputId": "ab29cc8e-bcf8-40fb-f4d6-89f9dbed2f96"
      },
      "execution_count": null,
      "outputs": [
        {
          "output_type": "execute_result",
          "data": {
            "text/plain": [
              "14"
            ]
          },
          "metadata": {},
          "execution_count": 197
        }
      ]
    },
    {
      "cell_type": "code",
      "source": [
        "new_data = []\n",
        "for i in range(len(adv)):\n",
        "  if i % 1 == 0:\n",
        "    new_data.append(adv[i])\n",
        "new_data = np.array(new_data)"
      ],
      "metadata": {
        "id": "t4LX1tmavSao"
      },
      "execution_count": null,
      "outputs": []
    },
    {
      "cell_type": "code",
      "source": [
        "bayesKMeans = BayesKMeans(data)"
      ],
      "metadata": {
        "id": "n98QBKXz7xFB"
      },
      "execution_count": null,
      "outputs": []
    },
    {
      "cell_type": "code",
      "source": [
        "bayesKMeans.showData()"
      ],
      "metadata": {
        "colab": {
          "base_uri": "https://localhost:8080/",
          "height": 265
        },
        "id": "iazSK6VAdEtT",
        "outputId": "47ce2ea3-8d30-4f1c-fd0c-038e731f9cf3"
      },
      "execution_count": null,
      "outputs": [
        {
          "output_type": "display_data",
          "data": {
            "text/plain": [
              "<Figure size 432x288 with 1 Axes>"
            ],
            "image/png": "[encoded data removed]"
          },
          "metadata": {
            "needs_background": "light"
          }
        }
      ]
    },
    {
      "cell_type": "code",
      "source": [
        "start = time.time()\n",
        "bayesKMeans.determineRightBorder()\n",
        "print(time.time() - start)"
      ],
      "metadata": {
        "colab": {
          "base_uri": "https://localhost:8080/"
        },
        "id": "3b49kqljdEwD",
        "outputId": "c1b7bf55-8fb2-4fa8-ce4e-0a17e69d4188"
      },
      "execution_count": null,
      "outputs": [
        {
          "output_type": "stream",
          "name": "stdout",
          "text": [
            "Right border is 100\n",
            "17.991763830184937\n"
          ]
        }
      ]
    },
    {
      "cell_type": "code",
      "source": [
        "bayesKMeans.setBayesianParametrs()"
      ],
      "metadata": {
        "id": "GAQl4DNif3D_"
      },
      "execution_count": null,
      "outputs": []
    },
    {
      "cell_type": "code",
      "source": [
        "start = time.time()\n",
        "bayesKMeans.findK()\n",
        "print(time.time() - start)"
      ],
      "metadata": {
        "colab": {
          "base_uri": "https://localhost:8080/"
        },
        "id": "m6cDIqQ_idCt",
        "outputId": "809a6d30-b409-48ea-e5e6-f2f5b008180f"
      },
      "execution_count": null,
      "outputs": [
        {
          "output_type": "stream",
          "name": "stdout",
          "text": [
            "85.49921250343323\n"
          ]
        }
      ]
    },
    {
      "cell_type": "code",
      "source": [
        "bayesKMeans.getK()"
      ],
      "metadata": {
        "colab": {
          "base_uri": "https://localhost:8080/"
        },
        "id": "1J7dInZYidFm",
        "outputId": "2c70b907-903f-41f1-f9c3-e9dbcb33000a"
      },
      "execution_count": null,
      "outputs": [
        {
          "output_type": "execute_result",
          "data": {
            "text/plain": [
              "7"
            ]
          },
          "metadata": {},
          "execution_count": 174
        }
      ]
    },
    {
      "cell_type": "code",
      "source": [
        "bayesKMeans.showColoredData()"
      ],
      "metadata": {
        "colab": {
          "base_uri": "https://localhost:8080/",
          "height": 265
        },
        "id": "w5aZt7PridIm",
        "outputId": "bcc895b6-7f70-4666-f999-b755b1030ce1"
      },
      "execution_count": null,
      "outputs": [
        {
          "output_type": "display_data",
          "data": {
            "text/plain": [
              "<Figure size 432x288 with 1 Axes>"
            ],
            "image/png": "[encoded data removed]"
          },
          "metadata": {
            "needs_background": "light"
          }
        }
      ]
    },
    {
      "cell_type": "code",
      "source": [
        "bayesKMeans.showBayesianPlot(line = True)"
      ],
      "metadata": {
        "colab": {
          "base_uri": "https://localhost:8080/",
          "height": 280
        },
        "id": "FxR4j8W8idLZ",
        "outputId": "2ff954b6-3d17-4068-c487-639ff49b82ef"
      },
      "execution_count": null,
      "outputs": [
        {
          "output_type": "display_data",
          "data": {
            "text/plain": [
              "<Figure size 432x288 with 1 Axes>"
            ],
            "image/png": "[encoded data removed]"
          },
          "metadata": {
            "needs_background": "light"
          }
        }
      ]
    }
  ]
}