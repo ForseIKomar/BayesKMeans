{
  "nbformat": 4,
  "nbformat_minor": 0,
  "metadata": {
    "colab": {
      "name": "BayesKMeansModule.ipynb",
      "provenance": [],
      "collapsed_sections": []
    },
    "kernelspec": {
      "name": "python3",
      "display_name": "Python 3"
    },
    "language_info": {
      "name": "python"
    }
  },
  "cells": [
    {
      "cell_type": "markdown",
      "source": [
        "#Импорты библиотек"
      ],
      "metadata": {
        "id": "--blsPodKeUY"
      }
    },
    {
      "cell_type": "code",
      "execution_count": 1,
      "metadata": {
        "id": "mJuA2ccPJGYd"
      },
      "outputs": [],
      "source": [
        "try:\n",
        "  import numpy as np\n",
        "  import random\n",
        "except:\n",
        "  !pip install numpy\n",
        "  import numpy as np\n",
        "  import random"
      ]
    },
    {
      "cell_type": "code",
      "source": [
        "try:\n",
        "  from sklearn.cluster import KMeans\n",
        "  from sklearn.metrics import silhouette_score\n",
        "  from sklearn.datasets import make_blobs\n",
        "  from sklearn.metrics import davies_bouldin_score\n",
        "except:\n",
        "  !pip install sklearn\n",
        "  from sklearn.cluster import KMeans\n",
        "  from sklearn.metrics import silhouette_score\n",
        "  from sklearn.datasets import make_blobs\n",
        "  from sklearn.metrics import davies_bouldin_score"
      ],
      "metadata": {
        "id": "Yu427bj6KgK1"
      },
      "execution_count": 2,
      "outputs": []
    },
    {
      "cell_type": "code",
      "source": [
        "try:\n",
        "  from skopt import gp_minimize\n",
        "except:\n",
        "  !pip install scikit-optimize\n",
        "  from skopt import gp_minimize"
      ],
      "metadata": {
        "id": "vynZ3L24KgNg"
      },
      "execution_count": 3,
      "outputs": []
    },
    {
      "cell_type": "code",
      "source": [
        "try:\n",
        "  import matplotlib.pyplot as plt\n",
        "except:\n",
        "  !pip install matplotlib\n",
        "  import matplotlib.pyplot as plt"
      ],
      "metadata": {
        "id": "zrShxRDpKgPn"
      },
      "execution_count": 4,
      "outputs": []
    },
    {
      "cell_type": "code",
      "source": [
        "import time\n",
        "import warnings\n",
        "warnings.filterwarnings('ignore')"
      ],
      "metadata": {
        "id": "vNjeAIn9KgSO"
      },
      "execution_count": 5,
      "outputs": []
    },
    {
      "cell_type": "markdown",
      "source": [
        "#Класс Silhouette"
      ],
      "metadata": {
        "id": "de6kXkCTKqBJ"
      }
    },
    {
      "cell_type": "code",
      "source": [
        "class Silhouette(object):\n",
        " \n",
        "    def __init__(self, data, n_init_points = 5, initial_generator = 'sobol', \n",
        "                 acq_function = 'LCB', kappa = 2, noise = 'gaussian', \n",
        "                 left_border = 2, right_border = 100, n_calls = 11, \n",
        "                 dispersion = 2, random_state = 2022):\n",
        "        self.data = data\n",
        "        self.n_init_points = n_init_points\n",
        "        self.initial_generator = initial_generator\n",
        "        self.acq_function = acq_function\n",
        "        self.kappa = kappa\n",
        "        self.noise = noise\n",
        "        self.left_border = left_border\n",
        "        self.right_border = right_border\n",
        "        self.n_calls = n_calls\n",
        "        self.dispersion = dispersion\n",
        "        self.random_state = random_state\n",
        "\n",
        "    def score_function(self, n):\n",
        "      clusterer = KMeans(n_clusters = n[0], random_state = self.random_state)\n",
        "      preds = clusterer.fit_predict(np.array(self.data))\n",
        "      return 1 - silhouette_score(self.data, preds)"
      ],
      "metadata": {
        "id": "eaYGcQBBKkGN"
      },
      "execution_count": 6,
      "outputs": []
    },
    {
      "cell_type": "markdown",
      "source": [
        "# Класс Davies Bouldin"
      ],
      "metadata": {
        "id": "ZkKYghMV6Zl_"
      }
    },
    {
      "cell_type": "code",
      "source": [
        "class DaviesBouldin(object):\n",
        " \n",
        "    def __init__(self, data, n_init_points = 6, initial_generator = 'sobol', \n",
        "                 acq_function = 'LCB', kappa = 3, noise = 'gaussian', \n",
        "                 left_border = 2, right_border = 100, n_calls = 14, \n",
        "                 dispersion = 2, kMeansRandomState = 2022):\n",
        "        self.data = data\n",
        "        self.n_init_points = n_init_points\n",
        "        self.initial_generator = initial_generator\n",
        "        self.acq_function = acq_function\n",
        "        self.kappa = kappa\n",
        "        self.noise = noise\n",
        "        self.left_border = left_border\n",
        "        self.right_border = right_border\n",
        "        self.n_calls = n_calls\n",
        "        self.dispersion = dispersion\n",
        "        self.random_state = random_state\n",
        "\n",
        "    def score_function(self, n):\n",
        "      clusterer = KMeans(n_clusters = n[0], random_state = self.random_state)\n",
        "      preds = clusterer.fit_predict(np.array(self.data))\n",
        "      return davies_bouldin_score(self.data, preds)"
      ],
      "metadata": {
        "id": "S1DUrWUhKphg"
      },
      "execution_count": 7,
      "outputs": []
    },
    {
      "cell_type": "markdown",
      "source": [
        "#Класс BayesKMeans"
      ],
      "metadata": {
        "id": "m_VtRUlH6eDI"
      }
    },
    {
      "cell_type": "code",
      "source": [
        "class BayesKMeans(object):\n",
        " \n",
        "    def __init__(self, data):\n",
        "        self.data = data\n",
        "        self.silhouette = Silhouette(data)\n",
        "        self.daviesBouldin = DaviesBouldin(data)\n",
        "        self.x_iters = None\n",
        "        self.func_vals = None\n",
        "        self.foundK = None\n",
        "        if len(data) <= 4000:\n",
        "          self.methodName = 'silhouette'\n",
        "          self.method = self.silhouette\n",
        "        else:\n",
        "          self.methodName = 'daviesBouldin'\n",
        "          self.method = self.daviesBouldin\n",
        "\n",
        "    def findK(self):\n",
        "      self.__bayesian_optimization()\n",
        "      \n",
        "    def getK(self):\n",
        "      return self.foundK\n",
        "\n",
        "    def showData(self):\n",
        "      plt.scatter(self.data[:, 0], self.data[:, 1])\n",
        "      plt.show()\n",
        "\n",
        "    def showColoredData(self):\n",
        "      clusterer = KMeans(n_clusters = self.foundK, random_state = self.method.kMeansRandomState)\n",
        "      preds = clusterer.fit_predict(np.array(self.data))\n",
        "      plt.scatter(self.data[:, 0], self.data[:, 1], c=preds)\n",
        "      plt.show()  \n",
        "\n",
        "    def showBayesianPlot(self, line = False):\n",
        "      d = {}\n",
        "      for i in range(len(self.x_iters)):\n",
        "        d[self.x_iters[i]] = self.func_vals[i]\n",
        "      x_asc = sorted(self.x_iters)\n",
        "      y_asc = []\n",
        "      for x in x_asc:\n",
        "        y_asc.append(d[x])\n",
        "      if line:\n",
        "        plt.plot(x_asc, y_asc, label=self.methodName)\n",
        "\n",
        "      plt.scatter(x_asc, y_asc, label=self.methodName, marker='x')\n",
        "      plt.scatter(self.foundK, d[self.foundK], c='red', marker='+', s=10, label='Target = ' + str(self.foundK))\n",
        "      plt.xlabel('n_clusters')  \n",
        "      plt.ylabel('Score')\n",
        "      plt.legend()\n",
        "      plt.show()\n",
        "\n",
        "    def chooseFunction(self, optimizedFunction):\n",
        "      if optimizedFunction == 'silhouette':\n",
        "          self.method = self.silhouette\n",
        "      elif optimizedFunction == 'daviesBouldin':\n",
        "          self.method = self.daviesBouldin\n",
        "\n",
        "\n",
        "\n",
        "    def __bayesian_optimization(self):\n",
        "      result = gp_minimize(\n",
        "                  self.method.score_function,\n",
        "                  [[self.method.left_border, self.method.right_border]],\n",
        "                  acq_func = self.method.acq_function,\n",
        "                  n_calls = self.method.n_calls,   \n",
        "                  n_initial_points = self.method.n_init_points,\n",
        "                  initial_point_generator = self.method.initial_generator,\n",
        "                  kappa = self.method.kappa,\n",
        "                  n_points = self.method.right_border - self.method.left_border + 1,   # Так как поиск происходит только по целым значениям, имеет смысл ограничить число точек\n",
        "                  noise = self.method.noise\n",
        "                           )\n",
        "      x_it = []\n",
        "      for x in result.x_iters:\n",
        "        x_it.append(x[0])\n",
        "      self.x_iters = x_it\n",
        "      self.func_vals = result.func_vals\n",
        "      self.foundK = result.x[0]\n",
        "      min_function_value = result.fun\n",
        "\n",
        "      for d in range(max(self.foundK - self.method.dispersion, 2), self.foundK + self.method.dispersion + 1):\n",
        "        if d not in self.x_iters:\n",
        "          self.x_iters.append(d)\n",
        "          self.func_vals = np.append(self.func_vals, self.method.score_function([d]))\n",
        "          if self.func_vals[-1] < min_function_value:\n",
        "            min_function_value = self.func_vals[-1]\n",
        "            self.foundK = d"
      ],
      "metadata": {
        "id": "LLkemewJMhYi"
      },
      "execution_count": 108,
      "outputs": []
    },
    {
      "cell_type": "markdown",
      "source": [
        "# Тестирование"
      ],
      "metadata": {
        "id": "WKkDZmEG6ixh"
      }
    },
    {
      "cell_type": "code",
      "source": [
        "data = make_blobs(n_samples=5000, n_features=2, centers=32, cluster_std=3, center_box=(-300, 300))\n",
        "data = data[0]"
      ],
      "metadata": {
        "id": "c10v7NaoOK4U"
      },
      "execution_count": 142,
      "outputs": []
    },
    {
      "cell_type": "code",
      "source": [
        "bayesKMeans = BayesKMeans(data)"
      ],
      "metadata": {
        "id": "6RdzdzGROK7Q"
      },
      "execution_count": 143,
      "outputs": []
    },
    {
      "cell_type": "code",
      "source": [
        "bayesKMeans.showData()"
      ],
      "metadata": {
        "colab": {
          "base_uri": "https://localhost:8080/",
          "height": 265
        },
        "id": "ngPMotcSOK_A",
        "outputId": "592e9068-d3b5-4cee-e019-2a8b48bbc655"
      },
      "execution_count": 144,
      "outputs": [
        {
          "output_type": "display_data",
          "data": {
            "image/png": "[encoded data removed]",
            "text/plain": [
              "<Figure size 432x288 with 1 Axes>"
            ]
          },
          "metadata": {
            "needs_background": "light"
          }
        }
      ]
    },
    {
      "cell_type": "code",
      "source": [
        "bayesKMeans.chooseFunction('silhouette')"
      ],
      "metadata": {
        "id": "v_OXcsBNi7Aa"
      },
      "execution_count": 138,
      "outputs": []
    },
    {
      "cell_type": "code",
      "source": [
        "start = time.time()\n",
        "bayesKMeans.findK()\n",
        "print(time.time() - start)"
      ],
      "metadata": {
        "colab": {
          "base_uri": "https://localhost:8080/"
        },
        "id": "5z3YAUnVDG62",
        "outputId": "b23fe914-e205-4f70-832a-cadbfa692e0b"
      },
      "execution_count": 145,
      "outputs": [
        {
          "output_type": "stream",
          "name": "stdout",
          "text": [
            "15.558974266052246\n"
          ]
        }
      ]
    },
    {
      "cell_type": "code",
      "source": [
        "bayesKMeans.getK()"
      ],
      "metadata": {
        "colab": {
          "base_uri": "https://localhost:8080/"
        },
        "id": "phLWsOZDit35",
        "outputId": "1866facb-61b0-452c-aa79-ec5f92c9fc1d"
      },
      "execution_count": 140,
      "outputs": [
        {
          "output_type": "execute_result",
          "data": {
            "text/plain": [
              "29"
            ]
          },
          "metadata": {},
          "execution_count": 140
        }
      ]
    },
    {
      "cell_type": "code",
      "source": [
        ""
      ],
      "metadata": {
        "id": "K_y2ov0BjbPC"
      },
      "execution_count": null,
      "outputs": []
    },
    {
      "cell_type": "code",
      "source": [
        ""
      ],
      "metadata": {
        "id": "fyG-BfXejbR_"
      },
      "execution_count": null,
      "outputs": []
    },
    {
      "cell_type": "code",
      "source": [
        ""
      ],
      "metadata": {
        "id": "A-ACL3EYikCA"
      },
      "execution_count": null,
      "outputs": []
    },
    {
      "cell_type": "code",
      "source": [
        "bayesKMeans.showColoredData()"
      ],
      "metadata": {
        "colab": {
          "base_uri": "https://localhost:8080/",
          "height": 265
        },
        "id": "0mViifNWQk5F",
        "outputId": "e4e61588-37ed-4166-c4d0-a7337b8b9f82"
      },
      "execution_count": 92,
      "outputs": [
        {
          "output_type": "display_data",
          "data": {
            "image/png": "[encoded data removed]",
            "text/plain": [
              "<Figure size 432x288 with 1 Axes>"
            ]
          },
          "metadata": {
            "needs_background": "light"
          }
        }
      ]
    },
    {
      "cell_type": "code",
      "source": [
        "bayesKMeans.showBayesianPlot(line = True)"
      ],
      "metadata": {
        "colab": {
          "base_uri": "https://localhost:8080/",
          "height": 280
        },
        "id": "3U31B-AHSFJS",
        "outputId": "03826cf3-7aff-44a7-c9ee-1fdb8ebb6d4b"
      },
      "execution_count": 146,
      "outputs": [
        {
          "output_type": "display_data",
          "data": {
            "image/png": "[encoded data removed]",
            "text/plain": [
              "<Figure size 432x288 with 1 Axes>"
            ]
          },
          "metadata": {
            "needs_background": "light"
          }
        }
      ]
    }
  ]
}